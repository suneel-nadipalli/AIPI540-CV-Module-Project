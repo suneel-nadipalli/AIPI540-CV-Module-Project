{
 "cells": [
  {
   "cell_type": "code",
   "execution_count": null,
   "metadata": {},
   "outputs": [],
   "source": [
    "# Importing required libraries and modules\n",
    "\n",
    "import pandas as pd\n",
    "import numpy as np\n",
    "import matplotlib.pyplot as plt\n",
    "import seaborn as sns\n",
    "import os\n",
    "\n",
    "import skimage\n",
    "from skimage.transform import resize\n",
    "from skimage.io import imread, imshow\n",
    "from skimage.color import rgb2gray\n",
    "from sklearn.model_selection import train_test_split\n",
    "from sklearn.metrics import accuracy_score, confusion_matrix, classification_report\n",
    "from sklearn.utils import shuffle\n",
    "from sklearn.metrics import roc_curve, auc\n",
    "\n",
    "from sklearn import svm"
   ]
  },
  {
   "cell_type": "code",
   "execution_count": null,
   "metadata": {},
   "outputs": [],
   "source": [
    "def split_SVM (data_array, labels_array):\n",
    "\n",
    "    '''\n",
    "    This function takes in the data and labels arrays and splits them into training and testing sets using sklearn's train_test_split\n",
    "    20 percent of the data is used for testing and 80 percent for training\n",
    "\n",
    "    The function then trains a support vector machine model using the training data and tests the model using the testing data\n",
    "\n",
    "    The function then prints the accuracy, confusion matrix and classification report of the model\n",
    "\n",
    "    The function returns the trained model\n",
    "\n",
    "    Args:  \n",
    "    \n",
    "    data_array: numpy array of the data\n",
    "    labels_array: numpy array of the labels\n",
    "\n",
    "    Returns:\n",
    "\n",
    "    svm_model: trained support vector machine model\n",
    "    '''\n",
    "\n",
    "    # Training the support vector machine model with linear kernel, C = 1, and gamma = 1\n",
    "    svm_model = svm.SVC(kernel='linear', C=1, gamma=1)\n",
    "\n",
    "    X_train, X_test, y_train, y_test = train_test_split(data_array, labels_array, test_size=0.2, random_state=0)\n",
    "\n",
    "    # Fitting the model to the training data\n",
    "    svm_model.fit(X_train, y_train)\n",
    "\n",
    "    # Predicting the labels of the testing data\n",
    "    y_pred = svm_model.predict(X_test)\n",
    "\n",
    "    # Printing the accuracy, confusion matrix and classification report of the model\n",
    "    print(\"Accuracy:\", accuracy_score(y_test, y_pred))\n",
    "\n",
    "    print(confusion_matrix(y_test, y_pred))\n",
    "\n",
    "    print(classification_report(y_test, y_pred))\n",
    "\n",
    "    return svm_model"
   ]
  }
 ],
 "metadata": {
  "language_info": {
   "name": "python"
  }
 },
 "nbformat": 4,
 "nbformat_minor": 2
}
