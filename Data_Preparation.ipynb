{
 "cells": [
  {
   "cell_type": "code",
   "execution_count": null,
   "metadata": {},
   "outputs": [],
   "source": [
    "# Importing required libraries and modules\n",
    "\n",
    "import pandas as pd\n",
    "import numpy as np\n",
    "import matplotlib.pyplot as plt\n",
    "import seaborn as sns\n",
    "import os\n",
    "\n",
    "import skimage\n",
    "from skimage.transform import resize\n",
    "from skimage.io import imread, imshow\n",
    "from skimage.color import rgb2gray\n",
    "from sklearn.model_selection import train_test_split\n",
    "from sklearn.metrics import accuracy_score, confusion_matrix, classification_report\n",
    "from sklearn.utils import shuffle\n",
    "from sklearn.metrics import roc_curve, auc\n",
    "\n",
    "from sklearn import svm"
   ]
  },
  {
   "cell_type": "code",
   "execution_count": null,
   "metadata": {},
   "outputs": [],
   "source": [
    "input_dir = '/kaggle/input/birds-and-squirrels/CV_data'\n",
    "\n",
    "categories = ['Bird', 'Squirrel']"
   ]
  },
  {
   "cell_type": "code",
   "execution_count": null,
   "metadata": {},
   "outputs": [],
   "source": [
    "def prepare_images(input_dir, category):\n",
    "\n",
    "    ''' \n",
    "    This function takes in the input directory and the category of the images and returns the images and their labels\n",
    "    as a list. The function also resizes the images to 224x224 pixels and leaves the RBG color channels intact \n",
    "    (no conversion to grayscale). \n",
    "    \n",
    "    Args:\n",
    "    input_dir: str: The directory where the images are stored\n",
    "    category: str: The category of the images/labels of the folders that contain the images \n",
    "    \n",
    "    Returns:\n",
    "    data: list: A list of the images\n",
    "    labels: list: A list of the labels of the images\n",
    "    '''\n",
    "\n",
    "    # Creating empty lists data and lables to store the images\n",
    "\n",
    "    data = []\n",
    "    labels = []\n",
    "\n",
    "    # Looping through the input directory and the category of the images to read the images, resize them, and store the flattened images\n",
    "    # Storing the folder name/image category as the label for modeling purposes\n",
    "\n",
    "    # for bird images in Bird and squirrel images in Squirrel \n",
    "    for category in categories:\n",
    "\n",
    "        # loop through images in the directory \n",
    "        for file in os.listdir(os.path.join(input_dir, category)):\n",
    "\n",
    "            # read the image\n",
    "            image = imread(os.path.join(input_dir, category, file))\n",
    "        \n",
    "            # resize the image to 224x224 pixels and preserve RGB color channels\n",
    "            image = resize(image, (224, 224, 3))\n",
    "\n",
    "            # flatten the image \n",
    "            image = image.flatten()\n",
    "\n",
    "            # append the image to the data list\n",
    "            data.append(image)\n",
    "\n",
    "            # append the label to the labels list\n",
    "            labels.append(category)\n",
    "\n",
    "    # Saving the data and labels as numpy arrays\n",
    "    data_array = np.array(data)\n",
    "    labels_array = np.array(labels)\n",
    "\n",
    "    # Exporting the data and labels numpy arrays\n",
    "    np.save('color_data_array.pkl', data_array)\n",
    "    np.save('color_labels_array.pkl', labels_array)\n",
    "\n",
    "    return data_array, labels_array"
   ]
  },
  {
   "cell_type": "code",
   "execution_count": null,
   "metadata": {},
   "outputs": [],
   "source": [
    "data_array, labels_array = prepare_images(input_dir, categories)"
   ]
  }
 ],
 "metadata": {
  "language_info": {
   "name": "python"
  }
 },
 "nbformat": 4,
 "nbformat_minor": 2
}
